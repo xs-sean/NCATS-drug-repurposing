{
 "cells": [
  {
   "cell_type": "code",
   "execution_count": 1,
   "id": "7c029457",
   "metadata": {},
   "outputs": [],
   "source": [
    "import pandas as pd\n",
    "import numpy as np\n",
    "import matplotlib.pyplot as plt\n",
    "import os\n",
    "import json\n",
    "import re\n",
    "from util import resolve_path\n",
    "\n",
    "%matplotlib inline  \n",
    "\n",
    "from sksurv.datasets import load_breast_cancer\n",
    "from sksurv.linear_model import CoxPHSurvivalAnalysis, CoxnetSurvivalAnalysis\n",
    "from sksurv.preprocessing import OneHotEncoder\n",
    "\n",
    "from sklearn import set_config\n",
    "from sklearn.model_selection import GridSearchCV, KFold\n",
    "from sklearn.pipeline import make_pipeline\n",
    "from sklearn.preprocessing import StandardScaler\n",
    "from lifelines import CoxPHFitter\n",
    "from sksurv.preprocessing import OneHotEncoder\n",
    "from sksurv.linear_model import CoxnetSurvivalAnalysis\n",
    "import warnings\n",
    "from sklearn.exceptions import FitFailedWarning\n",
    "\n",
    "\n",
    "set_config(display=\"text\")  # displays text representation of estimators (display plain text only)"
   ]
  },
  {
   "cell_type": "code",
   "execution_count": null,
   "id": "d9e9d769",
   "metadata": {},
   "outputs": [],
   "source": []
  },
  {
   "cell_type": "markdown",
   "id": "cd98f834",
   "metadata": {},
   "source": [
    "## convert pkl to csv"
   ]
  },
  {
   "cell_type": "code",
   "execution_count": 1,
   "id": "b3b73fb2",
   "metadata": {},
   "outputs": [],
   "source": [
    "import pickle as pkl\n",
    "import pandas as pd\n",
    "import os\n",
    "import numpy as np\n",
    "import matplotlib.pyplot as plt\n",
    "import json\n",
    "import re\n",
    "from util import resolve_path\n"
   ]
  },
  {
   "cell_type": "code",
   "execution_count": null,
   "id": "937ac15b",
   "metadata": {},
   "outputs": [],
   "source": [
    "%matplotlib inline\n",
    "set_config(display='text')  # displays text representation of estimators"
   ]
  },
  {
   "cell_type": "code",
   "execution_count": null,
   "id": "8d6250cb",
   "metadata": {},
   "outputs": [],
   "source": [
    "rows_GBM = pd.read_pickle('./results/only_GBM_dx_dates.pkl')\n",
    "demo_info = pd.read_pickle('./results/explanatory_demo.pkl')\n",
    "med_hist = pd.read_pickle('./results/explanatory_drugs.pkl')"
   ]
  },
  {
   "cell_type": "code",
   "execution_count": 2,
   "id": "fdd95053",
   "metadata": {},
   "outputs": [],
   "source": [
    "with open(\"./results/only_GBM_dx_dates.pkl\", \"rb\") as f:\n",
    "    object = pkl.load(f)\n",
    "    \n",
    "df = pd.DataFrame(object)\n",
    "df.to_csv(r'./results/only_GBM_dx_dates.csv')"
   ]
  },
  {
   "cell_type": "code",
   "execution_count": 3,
   "id": "021786ac",
   "metadata": {},
   "outputs": [],
   "source": [
    "with open(\"./results/explanatory_demo.pkl\", \"rb\") as f:\n",
    "    object = pkl.load(f)\n",
    "    \n",
    "df = pd.DataFrame(object)\n",
    "df.to_csv(r'./results/explanatory_demo.csv')"
   ]
  },
  {
   "cell_type": "code",
   "execution_count": 4,
   "id": "d0843bcc",
   "metadata": {},
   "outputs": [],
   "source": [
    "with open(\"./results/explanatory_drugs.pkl\", \"rb\") as f:\n",
    "    object = pkl.load(f)\n",
    "    \n",
    "df = pd.DataFrame(object)\n",
    "df.to_csv(r'./results/explanatory_drugs.csv')"
   ]
  },
  {
   "cell_type": "code",
   "execution_count": 19,
   "id": "580d996d",
   "metadata": {},
   "outputs": [
    {
     "data": {
      "text/plain": [
       "(569, 30)"
      ]
     },
     "execution_count": 19,
     "metadata": {},
     "output_type": "execute_result"
    }
   ],
   "source": [
    "data.data.shape"
   ]
  },
  {
   "cell_type": "code",
   "execution_count": 4,
   "id": "4f807373",
   "metadata": {},
   "outputs": [
    {
     "data": {
      "text/plain": [
       "['malignant', 'benign']"
      ]
     },
     "execution_count": 4,
     "metadata": {},
     "output_type": "execute_result"
    }
   ],
   "source": [
    ">>> list(data.target_names)"
   ]
  },
  {
   "cell_type": "code",
   "execution_count": 20,
   "id": "154e62bc",
   "metadata": {},
   "outputs": [],
   "source": [
    "import pandas as pd\n",
    "\n",
    "data = {'Name': ['Alice', 'Bob', 'Charlie'],\n",
    "        'Age': [25, 30, 35]}\n",
    "df = pd.DataFrame(data, index=['ID1', 'ID2', 'ID3'])\n",
    "\n",
    "# 'ID1', 'ID2', 'ID3' are the index labels\n"
   ]
  },
  {
   "cell_type": "code",
   "execution_count": 31,
   "id": "39738fba",
   "metadata": {},
   "outputs": [
    {
     "data": {
      "text/plain": [
       "array([1000., 1000., 1000., 1000., 1000., 1000., 1000., 1000., 1000.,\n",
       "       1000., 1000., 1000., 1000., 1000., 1000., 1000., 1000., 1000.,\n",
       "       1000., 1000., 1000., 1000., 1000., 1000., 1000., 1000., 1000.,\n",
       "       1000., 1000., 1000., 1000., 1000., 1000., 1000., 1000., 1000.,\n",
       "       1000., 1000., 1000., 1000., 1000., 1000., 1000., 1000., 1000.,\n",
       "       1000., 1000., 1000., 1000., 1000., 1000., 1000., 1000., 1000.,\n",
       "       1000., 1000., 1000., 1000., 1000., 1000., 1000., 1000., 1000.,\n",
       "       1000., 1000., 1000., 1000., 1000., 1000., 1000., 1000., 1000.,\n",
       "       1000., 1000., 1000., 1000., 1000., 1000., 1000., 1000., 1000.,\n",
       "       1000., 1000., 1000., 1000., 1000., 1000., 1000., 1000., 1000.,\n",
       "       1000., 1000., 1000., 1000., 1000., 1000., 1000., 1000., 1000.,\n",
       "       1000.])"
      ]
     },
     "execution_count": 31,
     "metadata": {},
     "output_type": "execute_result"
    }
   ],
   "source": [
    "import numpy as np\n",
    "np.quantile(1000, np.linspace(0, 0.6, 100))"
   ]
  },
  {
   "cell_type": "code",
   "execution_count": 32,
   "id": "904dc1fd",
   "metadata": {},
   "outputs": [],
   "source": [
    "a = (\"John\", \"Charles\", \"Mike\")\n",
    "b = (\"Jenny\", \"Christy\", \"Monica\")\n",
    "\n",
    "x = zip(a, b)"
   ]
  },
  {
   "cell_type": "code",
   "execution_count": 36,
   "id": "83f59361",
   "metadata": {},
   "outputs": [
    {
     "name": "stdout",
     "output_type": "stream",
     "text": [
      "(('John', 'Jenny'), ('Charles', 'Christy'), ('Mike', 'Monica'))\n"
     ]
    }
   ],
   "source": [
    "print(tuple(x))\n"
   ]
  },
  {
   "cell_type": "code",
   "execution_count": 44,
   "id": "5dc141d2",
   "metadata": {},
   "outputs": [],
   "source": [
    "from sksurv.datasets import load_whas500\n",
    "from sklearn.model_selection import train_test_split\n",
    "from sksurv.linear_model import CoxPHSurvivalAnalysis\n",
    "import matplotlib.pyplot as plt\n",
    "\n",
    "import pandas as pd\n",
    "import numpy as np\n",
    "import matplotlib.pyplot as plt\n",
    "\n",
    "# %matplotlib inline  # display plots within jupyter notebook interface\n",
    "\n",
    "from sksurv.datasets import load_breast_cancer\n",
    "from sksurv.linear_model import CoxPHSurvivalAnalysis, CoxnetSurvivalAnalysis\n",
    "from sksurv.preprocessing import OneHotEncoder\n",
    "\n",
    "from sklearn import set_config\n",
    "from sklearn.model_selection import GridSearchCV, KFold\n",
    "from sklearn.pipeline import make_pipeline\n",
    "from sklearn.preprocessing import StandardScaler\n",
    "\n",
    "set_config(display=\"text\")  # displays text representation of estimators (display plain text only)"
   ]
  },
  {
   "cell_type": "code",
   "execution_count": 2,
   "id": "63bdf760",
   "metadata": {},
   "outputs": [],
   "source": [
    "import pandas as pd\n",
    "from sksurv.datasets import get_x_y\n"
   ]
  },
  {
   "cell_type": "code",
   "execution_count": 13,
   "id": "e42528ef",
   "metadata": {},
   "outputs": [],
   "source": [
    "# Example DataFrame\n",
    "data = pd.DataFrame({\n",
    "    'SurvivalTime': [100, 200, 150, 300, 250],\n",
    "    'EventStatus': [1, 1, 0, 1, 0],\n",
    "    'Feature1': [0.1, 0.5, 0.2, 0.8, 0.6],\n",
    "    'Feature2': [0.7, 0.3, 0.9, 0.4, 0.2]\n",
    "})\n"
   ]
  },
  {
   "cell_type": "code",
   "execution_count": 11,
   "id": "08baba42",
   "metadata": {},
   "outputs": [
    {
     "data": {
      "text/plain": [
       "pandas.core.frame.DataFrame"
      ]
     },
     "execution_count": 11,
     "metadata": {},
     "output_type": "execute_result"
    }
   ],
   "source": [
    "type(data)"
   ]
  },
  {
   "cell_type": "code",
   "execution_count": 14,
   "id": "916babfc",
   "metadata": {},
   "outputs": [
    {
     "ename": "TypeError",
     "evalue": "get_x_y() got an unexpected keyword argument 'event_col'",
     "output_type": "error",
     "traceback": [
      "\u001b[1;31m---------------------------------------------------------------------------\u001b[0m",
      "\u001b[1;31mTypeError\u001b[0m                                 Traceback (most recent call last)",
      "Cell \u001b[1;32mIn[14], line 1\u001b[0m\n\u001b[1;32m----> 1\u001b[0m X, y \u001b[38;5;241m=\u001b[39m get_x_y(data, event_col\u001b[38;5;241m=\u001b[39m\u001b[38;5;124m\"\u001b[39m\u001b[38;5;124mEventStatus\u001b[39m\u001b[38;5;124m\"\u001b[39m, time_col\u001b[38;5;241m=\u001b[39m\u001b[38;5;124m\"\u001b[39m\u001b[38;5;124mSurvivalTime\u001b[39m\u001b[38;5;124m\"\u001b[39m)\n",
      "\u001b[1;31mTypeError\u001b[0m: get_x_y() got an unexpected keyword argument 'event_col'"
     ]
    }
   ],
   "source": [
    "X, y = get_x_y(data, event_col=\"EventStatus\", time_col=\"SurvivalTime\")\n"
   ]
  },
  {
   "cell_type": "markdown",
   "id": "fc50cbb5",
   "metadata": {},
   "source": [
    "second test"
   ]
  },
  {
   "cell_type": "code",
   "execution_count": 15,
   "id": "50dfc17f",
   "metadata": {},
   "outputs": [],
   "source": [
    "import pandas as pd\n",
    "import numpy as np\n",
    "from sksurv.datasets import get_x_y\n",
    "from sksurv.util import Surv\n"
   ]
  },
  {
   "cell_type": "code",
   "execution_count": 16,
   "id": "faf651d5",
   "metadata": {},
   "outputs": [],
   "source": [
    "# Example DataFrame\n",
    "data = pd.DataFrame({\n",
    "    'SurvivalTime': [100, 200, 150, 300, 250],\n",
    "    'EventStatus': [1, 1, 0, 1, 0],\n",
    "    'Feature1': [0.1, 0.5, 0.2, 0.8, 0.6],\n",
    "    'Feature2': [0.7, 0.3, 0.9, 0.4, 0.2]\n",
    "})\n",
    "\n",
    "# Create the target variable in the required format using sksurv.util.Surv\n",
    "target = Surv.from_arrays(data['EventStatus'], data['SurvivalTime'])\n"
   ]
  },
  {
   "cell_type": "code",
   "execution_count": 18,
   "id": "021fda2a",
   "metadata": {},
   "outputs": [
    {
     "data": {
      "text/plain": [
       "array([( True, 100.), ( True, 200.), (False, 150.), ( True, 300.),\n",
       "       (False, 250.)], dtype=[('event', '?'), ('time', '<f8')])"
      ]
     },
     "execution_count": 18,
     "metadata": {},
     "output_type": "execute_result"
    }
   ],
   "source": [
    "target"
   ]
  },
  {
   "cell_type": "code",
   "execution_count": 17,
   "id": "acec4ac4",
   "metadata": {},
   "outputs": [
    {
     "ename": "ValueError",
     "evalue": "expected sequence of length two for attr_labels, but got 5",
     "output_type": "error",
     "traceback": [
      "\u001b[1;31m---------------------------------------------------------------------------\u001b[0m",
      "\u001b[1;31mValueError\u001b[0m                                Traceback (most recent call last)",
      "Cell \u001b[1;32mIn[17], line 1\u001b[0m\n\u001b[1;32m----> 1\u001b[0m X, y \u001b[38;5;241m=\u001b[39m get_x_y(data[[\u001b[38;5;124m'\u001b[39m\u001b[38;5;124mFeature1\u001b[39m\u001b[38;5;124m'\u001b[39m, \u001b[38;5;124m'\u001b[39m\u001b[38;5;124mFeature2\u001b[39m\u001b[38;5;124m'\u001b[39m]], target)\n",
      "File \u001b[1;32m~\\AppData\\Local\\miniconda3\\Lib\\site-packages\\sksurv\\datasets\\base.py:94\u001b[0m, in \u001b[0;36mget_x_y\u001b[1;34m(data_frame, attr_labels, pos_label, survival)\u001b[0m\n\u001b[0;32m     92\u001b[0m \u001b[38;5;28;01mif\u001b[39;00m survival:\n\u001b[0;32m     93\u001b[0m     \u001b[38;5;28;01mif\u001b[39;00m \u001b[38;5;28mlen\u001b[39m(attr_labels) \u001b[38;5;241m!=\u001b[39m \u001b[38;5;241m2\u001b[39m:\n\u001b[1;32m---> 94\u001b[0m         \u001b[38;5;28;01mraise\u001b[39;00m \u001b[38;5;167;01mValueError\u001b[39;00m(\u001b[38;5;124mf\u001b[39m\u001b[38;5;124m\"\u001b[39m\u001b[38;5;124mexpected sequence of length two for attr_labels, but got \u001b[39m\u001b[38;5;132;01m{\u001b[39;00m\u001b[38;5;28mlen\u001b[39m(attr_labels)\u001b[38;5;132;01m}\u001b[39;00m\u001b[38;5;124m\"\u001b[39m)\n\u001b[0;32m     95\u001b[0m     \u001b[38;5;28;01mif\u001b[39;00m pos_label \u001b[38;5;129;01mis\u001b[39;00m \u001b[38;5;28;01mNone\u001b[39;00m:\n\u001b[0;32m     96\u001b[0m         \u001b[38;5;28;01mraise\u001b[39;00m \u001b[38;5;167;01mValueError\u001b[39;00m(\u001b[38;5;124m\"\u001b[39m\u001b[38;5;124mpos_label needs to be specified if survival=True\u001b[39m\u001b[38;5;124m\"\u001b[39m)\n",
      "\u001b[1;31mValueError\u001b[0m: expected sequence of length two for attr_labels, but got 5"
     ]
    }
   ],
   "source": [
    "X, y = get_x_y(data[['Feature1', 'Feature2']], target)\n"
   ]
  },
  {
   "cell_type": "code",
   "execution_count": 19,
   "id": "f0d3453d",
   "metadata": {},
   "outputs": [
    {
     "ename": "ValueError",
     "evalue": "expected sequence of length two for attr_labels, but got 5",
     "output_type": "error",
     "traceback": [
      "\u001b[1;31m---------------------------------------------------------------------------\u001b[0m",
      "\u001b[1;31mValueError\u001b[0m                                Traceback (most recent call last)",
      "Cell \u001b[1;32mIn[19], line 18\u001b[0m\n\u001b[0;32m     15\u001b[0m target \u001b[38;5;241m=\u001b[39m np\u001b[38;5;241m.\u001b[39marray(\u001b[38;5;28mlist\u001b[39m(\u001b[38;5;28mzip\u001b[39m(data[\u001b[38;5;124m'\u001b[39m\u001b[38;5;124mEventStatus\u001b[39m\u001b[38;5;124m'\u001b[39m], data[\u001b[38;5;124m'\u001b[39m\u001b[38;5;124mSurvivalTime\u001b[39m\u001b[38;5;124m'\u001b[39m])), dtype\u001b[38;5;241m=\u001b[39m[(\u001b[38;5;124m'\u001b[39m\u001b[38;5;124mEventStatus\u001b[39m\u001b[38;5;124m'\u001b[39m, \u001b[38;5;124m'\u001b[39m\u001b[38;5;124m?\u001b[39m\u001b[38;5;124m'\u001b[39m), (\u001b[38;5;124m'\u001b[39m\u001b[38;5;124mSurvivalTime\u001b[39m\u001b[38;5;124m'\u001b[39m, \u001b[38;5;124m'\u001b[39m\u001b[38;5;124m<f8\u001b[39m\u001b[38;5;124m'\u001b[39m)])\n\u001b[0;32m     17\u001b[0m \u001b[38;5;66;03m# Load this target variable and the feature columns into the get_x_y function\u001b[39;00m\n\u001b[1;32m---> 18\u001b[0m X, y \u001b[38;5;241m=\u001b[39m get_x_y(data[[\u001b[38;5;124m'\u001b[39m\u001b[38;5;124mFeature1\u001b[39m\u001b[38;5;124m'\u001b[39m, \u001b[38;5;124m'\u001b[39m\u001b[38;5;124mFeature2\u001b[39m\u001b[38;5;124m'\u001b[39m]], target)\n",
      "File \u001b[1;32m~\\AppData\\Local\\miniconda3\\Lib\\site-packages\\sksurv\\datasets\\base.py:94\u001b[0m, in \u001b[0;36mget_x_y\u001b[1;34m(data_frame, attr_labels, pos_label, survival)\u001b[0m\n\u001b[0;32m     92\u001b[0m \u001b[38;5;28;01mif\u001b[39;00m survival:\n\u001b[0;32m     93\u001b[0m     \u001b[38;5;28;01mif\u001b[39;00m \u001b[38;5;28mlen\u001b[39m(attr_labels) \u001b[38;5;241m!=\u001b[39m \u001b[38;5;241m2\u001b[39m:\n\u001b[1;32m---> 94\u001b[0m         \u001b[38;5;28;01mraise\u001b[39;00m \u001b[38;5;167;01mValueError\u001b[39;00m(\u001b[38;5;124mf\u001b[39m\u001b[38;5;124m\"\u001b[39m\u001b[38;5;124mexpected sequence of length two for attr_labels, but got \u001b[39m\u001b[38;5;132;01m{\u001b[39;00m\u001b[38;5;28mlen\u001b[39m(attr_labels)\u001b[38;5;132;01m}\u001b[39;00m\u001b[38;5;124m\"\u001b[39m)\n\u001b[0;32m     95\u001b[0m     \u001b[38;5;28;01mif\u001b[39;00m pos_label \u001b[38;5;129;01mis\u001b[39;00m \u001b[38;5;28;01mNone\u001b[39;00m:\n\u001b[0;32m     96\u001b[0m         \u001b[38;5;28;01mraise\u001b[39;00m \u001b[38;5;167;01mValueError\u001b[39;00m(\u001b[38;5;124m\"\u001b[39m\u001b[38;5;124mpos_label needs to be specified if survival=True\u001b[39m\u001b[38;5;124m\"\u001b[39m)\n",
      "\u001b[1;31mValueError\u001b[0m: expected sequence of length two for attr_labels, but got 5"
     ]
    }
   ],
   "source": [
    "import pandas as pd\n",
    "import numpy as np\n",
    "from sksurv.datasets import get_x_y\n",
    "from sksurv.util import Surv\n",
    "\n",
    "# Example DataFrame\n",
    "data = pd.DataFrame({\n",
    "    'SurvivalTime': [100, 200, 150, 300, 250],\n",
    "    'EventStatus': [1, 1, 0, 1, 0],\n",
    "    'Feature1': [0.1, 0.5, 0.2, 0.8, 0.6],\n",
    "    'Feature2': [0.7, 0.3, 0.9, 0.4, 0.2]\n",
    "})\n",
    "\n",
    "# Create the target variable in the required format using sksurv.util.Surv\n",
    "target = np.array(list(zip(data['EventStatus'], data['SurvivalTime'])), dtype=[('EventStatus', '?'), ('SurvivalTime', '<f8')])\n",
    "\n",
    "# Load this target variable and the feature columns into the get_x_y function\n",
    "X, y = get_x_y(data[['Feature1', 'Feature2']], target)\n"
   ]
  },
  {
   "cell_type": "code",
   "execution_count": 21,
   "id": "f4d309ae",
   "metadata": {},
   "outputs": [
    {
     "ename": "TypeError",
     "evalue": "get_x_y() missing 1 required positional argument: 'attr_labels'",
     "output_type": "error",
     "traceback": [
      "\u001b[1;31m---------------------------------------------------------------------------\u001b[0m",
      "\u001b[1;31mTypeError\u001b[0m                                 Traceback (most recent call last)",
      "Cell \u001b[1;32mIn[21], line 5\u001b[0m\n\u001b[0;32m      2\u001b[0m \u001b[38;5;28;01mfrom\u001b[39;00m \u001b[38;5;21;01msksurv\u001b[39;00m\u001b[38;5;21;01m.\u001b[39;00m\u001b[38;5;21;01mlinear_model\u001b[39;00m \u001b[38;5;28;01mimport\u001b[39;00m CoxPHSurvivalAnalysis\n\u001b[0;32m      4\u001b[0m \u001b[38;5;66;03m# Load the 'flchain' dataset\u001b[39;00m\n\u001b[1;32m----> 5\u001b[0m X, y \u001b[38;5;241m=\u001b[39m get_x_y(\u001b[38;5;124m\"\u001b[39m\u001b[38;5;124mflchain\u001b[39m\u001b[38;5;124m\"\u001b[39m)\n",
      "\u001b[1;31mTypeError\u001b[0m: get_x_y() missing 1 required positional argument: 'attr_labels'"
     ]
    }
   ],
   "source": [
    "from sksurv.datasets import get_x_y\n",
    "from sksurv.linear_model import CoxPHSurvivalAnalysis\n",
    "\n",
    "# Load the 'flchain' dataset\n",
    "X, y = get_x_y(\"flchain\")\n",
    "\n",
    "# Create a Cox proportional hazards model\n",
    "#model = CoxPHSurvivalAnalysis()\n",
    "\n",
    "# Fit the model to the data\n",
    "#model.fit(X, y)\n",
    "\n",
    "# Now you can use the trained model for prediction and analysis\n"
   ]
  }
 ],
 "metadata": {
  "kernelspec": {
   "display_name": "Python 3 (ipykernel)",
   "language": "python",
   "name": "python3"
  },
  "language_info": {
   "codemirror_mode": {
    "name": "ipython",
    "version": 3
   },
   "file_extension": ".py",
   "mimetype": "text/x-python",
   "name": "python",
   "nbconvert_exporter": "python",
   "pygments_lexer": "ipython3",
   "version": "3.11.4"
  }
 },
 "nbformat": 4,
 "nbformat_minor": 5
}
